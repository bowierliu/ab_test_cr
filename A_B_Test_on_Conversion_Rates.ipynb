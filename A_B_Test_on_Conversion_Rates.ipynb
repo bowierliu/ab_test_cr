{
  "nbformat": 4,
  "nbformat_minor": 0,
  "metadata": {
    "colab": {
      "provenance": [],
      "collapsed_sections": [
        "7oPOJoLtgG2T",
        "KsZryAccgou2",
        "mLlsqqeIhTlF",
        "WGmOeLghhial",
        "NBRVfDJCjY61",
        "Bsv-cOLCkD3h"
      ],
      "toc_visible": true
    },
    "kernelspec": {
      "name": "python3",
      "display_name": "Python 3"
    },
    "language_info": {
      "name": "python"
    }
  },
  "cells": [
    {
      "cell_type": "markdown",
      "source": [
        "### **1. Data Loading and Initial Setup**\n",
        "- In this section, we load the dataset and necessary libraries for analysis."
      ],
      "metadata": {
        "id": "7oPOJoLtgG2T"
      }
    },
    {
      "cell_type": "code",
      "execution_count": 11,
      "metadata": {
        "id": "cTTQleMnfxAj"
      },
      "outputs": [],
      "source": [
        "import pandas as pd\n",
        "import numpy as np\n",
        "import matplotlib.pyplot as plt\n",
        "import scipy.stats as stats"
      ]
    },
    {
      "cell_type": "code",
      "source": [
        "# Load the dataset\n",
        "file_path = '/content/ab_data.csv'\n",
        "df = pd.read_csv(file_path)"
      ],
      "metadata": {
        "id": "flKaV-hnf98Y"
      },
      "execution_count": 12,
      "outputs": []
    },
    {
      "cell_type": "code",
      "source": [
        "df.head()"
      ],
      "metadata": {
        "colab": {
          "base_uri": "https://localhost:8080/",
          "height": 0
        },
        "id": "NVY6JwNSgd6U",
        "outputId": "86974064-5b9e-4450-e2c9-6cb4ec91ddb8"
      },
      "execution_count": 13,
      "outputs": [
        {
          "output_type": "execute_result",
          "data": {
            "text/plain": [
              "   user_id                   timestamp      group landing_page  converted\n",
              "0   851104  2017-01-21 22:11:48.556739    control     old_page          0\n",
              "1   804228  2017-01-12 08:01:45.159739    control     old_page          0\n",
              "2   661590  2017-01-11 16:55:06.154213  treatment     new_page          0\n",
              "3   853541  2017-01-08 18:28:03.143765  treatment     new_page          0\n",
              "4   864975  2017-01-21 01:52:26.210827    control     old_page          1"
            ],
            "text/html": [
              "\n",
              "  <div id=\"df-aabe5ef1-53d4-419b-b9fa-0506d713e7a5\" class=\"colab-df-container\">\n",
              "    <div>\n",
              "<style scoped>\n",
              "    .dataframe tbody tr th:only-of-type {\n",
              "        vertical-align: middle;\n",
              "    }\n",
              "\n",
              "    .dataframe tbody tr th {\n",
              "        vertical-align: top;\n",
              "    }\n",
              "\n",
              "    .dataframe thead th {\n",
              "        text-align: right;\n",
              "    }\n",
              "</style>\n",
              "<table border=\"1\" class=\"dataframe\">\n",
              "  <thead>\n",
              "    <tr style=\"text-align: right;\">\n",
              "      <th></th>\n",
              "      <th>user_id</th>\n",
              "      <th>timestamp</th>\n",
              "      <th>group</th>\n",
              "      <th>landing_page</th>\n",
              "      <th>converted</th>\n",
              "    </tr>\n",
              "  </thead>\n",
              "  <tbody>\n",
              "    <tr>\n",
              "      <th>0</th>\n",
              "      <td>851104</td>\n",
              "      <td>2017-01-21 22:11:48.556739</td>\n",
              "      <td>control</td>\n",
              "      <td>old_page</td>\n",
              "      <td>0</td>\n",
              "    </tr>\n",
              "    <tr>\n",
              "      <th>1</th>\n",
              "      <td>804228</td>\n",
              "      <td>2017-01-12 08:01:45.159739</td>\n",
              "      <td>control</td>\n",
              "      <td>old_page</td>\n",
              "      <td>0</td>\n",
              "    </tr>\n",
              "    <tr>\n",
              "      <th>2</th>\n",
              "      <td>661590</td>\n",
              "      <td>2017-01-11 16:55:06.154213</td>\n",
              "      <td>treatment</td>\n",
              "      <td>new_page</td>\n",
              "      <td>0</td>\n",
              "    </tr>\n",
              "    <tr>\n",
              "      <th>3</th>\n",
              "      <td>853541</td>\n",
              "      <td>2017-01-08 18:28:03.143765</td>\n",
              "      <td>treatment</td>\n",
              "      <td>new_page</td>\n",
              "      <td>0</td>\n",
              "    </tr>\n",
              "    <tr>\n",
              "      <th>4</th>\n",
              "      <td>864975</td>\n",
              "      <td>2017-01-21 01:52:26.210827</td>\n",
              "      <td>control</td>\n",
              "      <td>old_page</td>\n",
              "      <td>1</td>\n",
              "    </tr>\n",
              "  </tbody>\n",
              "</table>\n",
              "</div>\n",
              "    <div class=\"colab-df-buttons\">\n",
              "\n",
              "  <div class=\"colab-df-container\">\n",
              "    <button class=\"colab-df-convert\" onclick=\"convertToInteractive('df-aabe5ef1-53d4-419b-b9fa-0506d713e7a5')\"\n",
              "            title=\"Convert this dataframe to an interactive table.\"\n",
              "            style=\"display:none;\">\n",
              "\n",
              "  <svg xmlns=\"http://www.w3.org/2000/svg\" height=\"24px\" viewBox=\"0 -960 960 960\">\n",
              "    <path d=\"M120-120v-720h720v720H120Zm60-500h600v-160H180v160Zm220 220h160v-160H400v160Zm0 220h160v-160H400v160ZM180-400h160v-160H180v160Zm440 0h160v-160H620v160ZM180-180h160v-160H180v160Zm440 0h160v-160H620v160Z\"/>\n",
              "  </svg>\n",
              "    </button>\n",
              "\n",
              "  <style>\n",
              "    .colab-df-container {\n",
              "      display:flex;\n",
              "      gap: 12px;\n",
              "    }\n",
              "\n",
              "    .colab-df-convert {\n",
              "      background-color: #E8F0FE;\n",
              "      border: none;\n",
              "      border-radius: 50%;\n",
              "      cursor: pointer;\n",
              "      display: none;\n",
              "      fill: #1967D2;\n",
              "      height: 32px;\n",
              "      padding: 0 0 0 0;\n",
              "      width: 32px;\n",
              "    }\n",
              "\n",
              "    .colab-df-convert:hover {\n",
              "      background-color: #E2EBFA;\n",
              "      box-shadow: 0px 1px 2px rgba(60, 64, 67, 0.3), 0px 1px 3px 1px rgba(60, 64, 67, 0.15);\n",
              "      fill: #174EA6;\n",
              "    }\n",
              "\n",
              "    .colab-df-buttons div {\n",
              "      margin-bottom: 4px;\n",
              "    }\n",
              "\n",
              "    [theme=dark] .colab-df-convert {\n",
              "      background-color: #3B4455;\n",
              "      fill: #D2E3FC;\n",
              "    }\n",
              "\n",
              "    [theme=dark] .colab-df-convert:hover {\n",
              "      background-color: #434B5C;\n",
              "      box-shadow: 0px 1px 3px 1px rgba(0, 0, 0, 0.15);\n",
              "      filter: drop-shadow(0px 1px 2px rgba(0, 0, 0, 0.3));\n",
              "      fill: #FFFFFF;\n",
              "    }\n",
              "  </style>\n",
              "\n",
              "    <script>\n",
              "      const buttonEl =\n",
              "        document.querySelector('#df-aabe5ef1-53d4-419b-b9fa-0506d713e7a5 button.colab-df-convert');\n",
              "      buttonEl.style.display =\n",
              "        google.colab.kernel.accessAllowed ? 'block' : 'none';\n",
              "\n",
              "      async function convertToInteractive(key) {\n",
              "        const element = document.querySelector('#df-aabe5ef1-53d4-419b-b9fa-0506d713e7a5');\n",
              "        const dataTable =\n",
              "          await google.colab.kernel.invokeFunction('convertToInteractive',\n",
              "                                                    [key], {});\n",
              "        if (!dataTable) return;\n",
              "\n",
              "        const docLinkHtml = 'Like what you see? Visit the ' +\n",
              "          '<a target=\"_blank\" href=https://colab.research.google.com/notebooks/data_table.ipynb>data table notebook</a>'\n",
              "          + ' to learn more about interactive tables.';\n",
              "        element.innerHTML = '';\n",
              "        dataTable['output_type'] = 'display_data';\n",
              "        await google.colab.output.renderOutput(dataTable, element);\n",
              "        const docLink = document.createElement('div');\n",
              "        docLink.innerHTML = docLinkHtml;\n",
              "        element.appendChild(docLink);\n",
              "      }\n",
              "    </script>\n",
              "  </div>\n",
              "\n",
              "\n",
              "<div id=\"df-5dff9de0-315c-41c2-9b62-805c4c160fc0\">\n",
              "  <button class=\"colab-df-quickchart\" onclick=\"quickchart('df-5dff9de0-315c-41c2-9b62-805c4c160fc0')\"\n",
              "            title=\"Suggest charts\"\n",
              "            style=\"display:none;\">\n",
              "\n",
              "<svg xmlns=\"http://www.w3.org/2000/svg\" height=\"24px\"viewBox=\"0 0 24 24\"\n",
              "     width=\"24px\">\n",
              "    <g>\n",
              "        <path d=\"M19 3H5c-1.1 0-2 .9-2 2v14c0 1.1.9 2 2 2h14c1.1 0 2-.9 2-2V5c0-1.1-.9-2-2-2zM9 17H7v-7h2v7zm4 0h-2V7h2v10zm4 0h-2v-4h2v4z\"/>\n",
              "    </g>\n",
              "</svg>\n",
              "  </button>\n",
              "\n",
              "<style>\n",
              "  .colab-df-quickchart {\n",
              "      --bg-color: #E8F0FE;\n",
              "      --fill-color: #1967D2;\n",
              "      --hover-bg-color: #E2EBFA;\n",
              "      --hover-fill-color: #174EA6;\n",
              "      --disabled-fill-color: #AAA;\n",
              "      --disabled-bg-color: #DDD;\n",
              "  }\n",
              "\n",
              "  [theme=dark] .colab-df-quickchart {\n",
              "      --bg-color: #3B4455;\n",
              "      --fill-color: #D2E3FC;\n",
              "      --hover-bg-color: #434B5C;\n",
              "      --hover-fill-color: #FFFFFF;\n",
              "      --disabled-bg-color: #3B4455;\n",
              "      --disabled-fill-color: #666;\n",
              "  }\n",
              "\n",
              "  .colab-df-quickchart {\n",
              "    background-color: var(--bg-color);\n",
              "    border: none;\n",
              "    border-radius: 50%;\n",
              "    cursor: pointer;\n",
              "    display: none;\n",
              "    fill: var(--fill-color);\n",
              "    height: 32px;\n",
              "    padding: 0;\n",
              "    width: 32px;\n",
              "  }\n",
              "\n",
              "  .colab-df-quickchart:hover {\n",
              "    background-color: var(--hover-bg-color);\n",
              "    box-shadow: 0 1px 2px rgba(60, 64, 67, 0.3), 0 1px 3px 1px rgba(60, 64, 67, 0.15);\n",
              "    fill: var(--button-hover-fill-color);\n",
              "  }\n",
              "\n",
              "  .colab-df-quickchart-complete:disabled,\n",
              "  .colab-df-quickchart-complete:disabled:hover {\n",
              "    background-color: var(--disabled-bg-color);\n",
              "    fill: var(--disabled-fill-color);\n",
              "    box-shadow: none;\n",
              "  }\n",
              "\n",
              "  .colab-df-spinner {\n",
              "    border: 2px solid var(--fill-color);\n",
              "    border-color: transparent;\n",
              "    border-bottom-color: var(--fill-color);\n",
              "    animation:\n",
              "      spin 1s steps(1) infinite;\n",
              "  }\n",
              "\n",
              "  @keyframes spin {\n",
              "    0% {\n",
              "      border-color: transparent;\n",
              "      border-bottom-color: var(--fill-color);\n",
              "      border-left-color: var(--fill-color);\n",
              "    }\n",
              "    20% {\n",
              "      border-color: transparent;\n",
              "      border-left-color: var(--fill-color);\n",
              "      border-top-color: var(--fill-color);\n",
              "    }\n",
              "    30% {\n",
              "      border-color: transparent;\n",
              "      border-left-color: var(--fill-color);\n",
              "      border-top-color: var(--fill-color);\n",
              "      border-right-color: var(--fill-color);\n",
              "    }\n",
              "    40% {\n",
              "      border-color: transparent;\n",
              "      border-right-color: var(--fill-color);\n",
              "      border-top-color: var(--fill-color);\n",
              "    }\n",
              "    60% {\n",
              "      border-color: transparent;\n",
              "      border-right-color: var(--fill-color);\n",
              "    }\n",
              "    80% {\n",
              "      border-color: transparent;\n",
              "      border-right-color: var(--fill-color);\n",
              "      border-bottom-color: var(--fill-color);\n",
              "    }\n",
              "    90% {\n",
              "      border-color: transparent;\n",
              "      border-bottom-color: var(--fill-color);\n",
              "    }\n",
              "  }\n",
              "</style>\n",
              "\n",
              "  <script>\n",
              "    async function quickchart(key) {\n",
              "      const quickchartButtonEl =\n",
              "        document.querySelector('#' + key + ' button');\n",
              "      quickchartButtonEl.disabled = true;  // To prevent multiple clicks.\n",
              "      quickchartButtonEl.classList.add('colab-df-spinner');\n",
              "      try {\n",
              "        const charts = await google.colab.kernel.invokeFunction(\n",
              "            'suggestCharts', [key], {});\n",
              "      } catch (error) {\n",
              "        console.error('Error during call to suggestCharts:', error);\n",
              "      }\n",
              "      quickchartButtonEl.classList.remove('colab-df-spinner');\n",
              "      quickchartButtonEl.classList.add('colab-df-quickchart-complete');\n",
              "    }\n",
              "    (() => {\n",
              "      let quickchartButtonEl =\n",
              "        document.querySelector('#df-5dff9de0-315c-41c2-9b62-805c4c160fc0 button');\n",
              "      quickchartButtonEl.style.display =\n",
              "        google.colab.kernel.accessAllowed ? 'block' : 'none';\n",
              "    })();\n",
              "  </script>\n",
              "</div>\n",
              "\n",
              "    </div>\n",
              "  </div>\n"
            ],
            "application/vnd.google.colaboratory.intrinsic+json": {
              "type": "dataframe",
              "variable_name": "df"
            }
          },
          "metadata": {},
          "execution_count": 13
        }
      ]
    },
    {
      "cell_type": "markdown",
      "source": [
        "- **Goal**: Load the dataset into a Pandas DataFrame and import necessary libraries for data processing, visualization, and statistical testing.\n",
        "- **Tools**: pandas, numpy, matplotlib.pyplot, and scipy.stats are used for handling the data, visualizing trends, and performing hypothesis tests.\n"
      ],
      "metadata": {
        "id": "FxQPSjkhhMNE"
      }
    },
    {
      "cell_type": "markdown",
      "source": [
        "### **2. Data Cleaning and Preprocessing**\n",
        "- Here, we check for duplicates and inconsistencies mismatches between `group` and `landing_page`. We remove mismatched entries to ensure valid A/B testing."
      ],
      "metadata": {
        "id": "KsZryAccgou2"
      }
    },
    {
      "cell_type": "code",
      "source": [
        "# Data Cleaning & Preprocessing\n",
        "\n",
        "# Check for duplicates\n",
        "duplicate_rows = df.duplicated().sum()\n",
        "\n",
        "# Check for mismatched entries between 'group' and 'landing_page'\n",
        "mismatch_group_page = df.query(\"(group == 'control' and landing_page == 'new_page') or (group == 'treatment' and landing_page == 'old_page')\")\n",
        "\n",
        "# Remove the mismatched entries\n",
        "clean_df = df.query(\"not ((group == 'control' and landing_page == 'new_page') or (group == 'treatment' and landing_page == 'old_page'))\")\n",
        "\n",
        "# Verify that the mismatches have been removed\n",
        "mismatch_group_page_after_cleaning = clean_df.query(\"(group == 'control' and landing_page == 'new_page') or (group == 'treatment' and landing_page == 'old_page')\")"
      ],
      "metadata": {
        "id": "_m3pthsfgxA6"
      },
      "execution_count": 14,
      "outputs": []
    },
    {
      "cell_type": "markdown",
      "source": [
        "- **Goal**: Clean the dataset by removing duplicate entries and any rows where the control group saw the new landing page, or the treatment group saw the old landing page.\n",
        "- **Reason**: Mismatches in landing pages could skew the A/B test results, leading to inaccurate conclusions.\n"
      ],
      "metadata": {
        "id": "NZ-yZEyQhFIp"
      }
    },
    {
      "cell_type": "markdown",
      "source": [
        "### **3. Exploratory Data Analysis (EDA)**\n",
        "- We now calculate and visualize the conversion rates for both control and treatment groups to get an overview of the data distribution."
      ],
      "metadata": {
        "id": "mLlsqqeIhTlF"
      }
    },
    {
      "cell_type": "code",
      "source": [
        "# Exploratory Data Analysis (EDA)\n",
        "\n",
        "# Calculate conversion rates for control and treatment groups\n",
        "conversion_rates = clean_df.groupby('group')['converted'].agg(['mean', 'count'])\n",
        "\n",
        "# Plot the conversion rates for each group\n",
        "plt.figure(figsize=(8,6))\n",
        "conversion_rates['mean'].plot(kind='bar', color=['skyblue', 'lightgreen'])\n",
        "plt.title('Conversion Rates by Group (Control vs. Treatment)', fontsize=16)\n",
        "plt.ylabel('Conversion Rate', fontsize=12)\n",
        "plt.xticks(rotation=0, fontsize=12)\n",
        "plt.show()"
      ],
      "metadata": {
        "colab": {
          "base_uri": "https://localhost:8080/",
          "height": 0
        },
        "id": "FkytnJxYgmaE",
        "outputId": "a08f754f-1b1a-4198-a582-a3346c9a9bf0"
      },
      "execution_count": 15,
      "outputs": [
        {
          "output_type": "display_data",
          "data": {
            "text/plain": [
              "<Figure size 800x600 with 1 Axes>"
            ],
            "image/png": "[encoded data removed]"
          },
          "metadata": {}
        }
      ]
    },
    {
      "cell_type": "markdown",
      "source": [
        "- **Goal**: Understand the distribution of the conversion rates between the control and treatment groups.\n",
        "- **Visualization**: A bar plot is generated to compare conversion rates between groups. This gives us a quick visual representation of how users in each group performed in terms of conversion.\n"
      ],
      "metadata": {
        "id": "czG6Hg7KhcCB"
      }
    },
    {
      "cell_type": "markdown",
      "source": [
        "### **4. A/B Test Analysis - Z-test**\n",
        "- Next, we perform a statistical test (Z-test) to determine if the difference in conversion rates between the control and treatment groups is statistically significant."
      ],
      "metadata": {
        "id": "WGmOeLghhial"
      }
    },
    {
      "cell_type": "code",
      "source": [
        "# A/B Test Analysis - Hypothesis Testing\n",
        "\n",
        "# Number of conversions in each group\n",
        "control_conversions = clean_df[clean_df['group'] == 'control']['converted'].sum()\n",
        "treatment_conversions = clean_df[clean_df['group'] == 'treatment']['converted'].sum()\n",
        "\n",
        "# Number of users in each group\n",
        "n_control = clean_df[clean_df['group'] == 'control'].shape[0]\n",
        "n_treatment = clean_df[clean_df['group'] == 'treatment'].shape[0]\n",
        "\n",
        "# Conversion rates\n",
        "p_control = control_conversions / n_control\n",
        "p_treatment = treatment_conversions / n_treatment\n",
        "\n",
        "# Pooled conversion rate\n",
        "p_pooled = (control_conversions + treatment_conversions) / (n_control + n_treatment)\n",
        "\n",
        "# Standard error\n",
        "se_pooled = np.sqrt(p_pooled * (1 - p_pooled) * (1/n_control + 1/n_treatment))\n",
        "\n",
        "# Z-score\n",
        "z_score = (p_treatment - p_control) / se_pooled\n",
        "\n",
        "# P-value (two-tailed test)\n",
        "p_value = stats.norm.sf(abs(z_score)) * 2"
      ],
      "metadata": {
        "id": "tpfG-uWnhbuK"
      },
      "execution_count": 8,
      "outputs": []
    },
    {
      "cell_type": "code",
      "source": [
        "\n",
        "print(f\"Z-score: {z_score:.4f}\")\n",
        "print(f\"P-value: {p_value:.4f}\")\n",
        "\n",
        "# Check if the result is statistically significant\n",
        "alpha = 0.05  # Significance level\n",
        "if p_value < alpha:\n",
        "    print(\"The result is statistically significant, we reject the null hypothesis.\")\n",
        "else:\n",
        "    print(\"The result is not statistically significant, we fail to reject the null hypothesis.\")"
      ],
      "metadata": {
        "colab": {
          "base_uri": "https://localhost:8080/",
          "height": 0
        },
        "id": "-ahy38uOgmkI",
        "outputId": "a64f9bf8-f0e8-4679-aeb4-02f7b6136629"
      },
      "execution_count": 17,
      "outputs": [
        {
          "output_type": "stream",
          "name": "stdout",
          "text": [
            "Z-score: -1.3116\n",
            "P-value: 0.1916\n",
            "The result is not statistically significant, we fail to reject the null hypothesis.\n"
          ]
        }
      ]
    },
    {
      "cell_type": "markdown",
      "source": [
        "- **Goal**: Perform a hypothesis test to check if the difference in conversion rates between the control and treatment groups is statistically significant.\n",
        "- **Explanation**:\n",
        "  - We calculate the pooled conversion rate, the standard error, and the z-score to determine the p-value.\n",
        "  - A p-value will tell us whether the difference between the two groups is significant.\n"
      ],
      "metadata": {
        "id": "12H0nplshrus"
      }
    },
    {
      "cell_type": "markdown",
      "source": [
        "### **4. A/B Test Analysis - Chi-Square Test**\n",
        "- Next, we perform a Chi-Square test to determine if the difference in conversion rates between the control and treatment groups is statistically significant.\n",
        "\n"
      ],
      "metadata": {
        "id": "NBRVfDJCjY61"
      }
    },
    {
      "cell_type": "code",
      "source": [
        "# A/B Test Analysis - Chi-Square Test\n",
        "\n",
        "# Create a contingency table for the chi-square test\n",
        "contingency_table = pd.crosstab(clean_df['group'], clean_df['converted'])\n",
        "\n",
        "# Perform the chi-square test\n",
        "chi2_stat, p_value, dof, expected = stats.chi2_contingency(contingency_table)\n",
        "\n",
        "# Print the results of the chi-square test\n",
        "print(f\"Chi-square statistic: {chi2_stat}\")\n",
        "print(f\"P-value: {p_value}\")\n",
        "\n",
        "# Check if the result is statistically significant\n",
        "alpha = 0.05  # Significance level\n",
        "if p_value < alpha:\n",
        "    print(\"The result is statistically significant, we reject the null hypothesis.\")\n",
        "else:\n",
        "    print(\"The result is not statistically significant, we fail to reject the null hypothesis.\")"
      ],
      "metadata": {
        "colab": {
          "base_uri": "https://localhost:8080/",
          "height": 0
        },
        "id": "CNw6TZFIgm4T",
        "outputId": "550c85dd-a3a4-45a5-ce4f-8ebdc8ed2d04"
      },
      "execution_count": 18,
      "outputs": [
        {
          "output_type": "stream",
          "name": "stdout",
          "text": [
            "Chi-square statistic: 1.7053502645115002\n",
            "P-value: 0.19158976298516003\n",
            "The result is not statistically significant, we fail to reject the null hypothesis.\n"
          ]
        }
      ]
    },
    {
      "cell_type": "markdown",
      "source": [
        "**Goal**:\n",
        "- Perform a hypothesis test to check if the difference in conversion rates between the control and treatment groups is statistically significant.\n",
        "\n",
        "**Explanation**:\n",
        "\n",
        "- We create a contingency table from the group and converted variables, representing the number of conversions in each group.\n",
        "- The chi-square test is used to determine whether there is a significant association between the group and the conversion rate.\n",
        "- The p-value tells us whether the difference between the two groups is significant."
      ],
      "metadata": {
        "id": "JrC8P_kZj20u"
      }
    },
    {
      "cell_type": "markdown",
      "source": [
        "### **5. Conclusion**\n",
        "- Based on the results from both the Z-test and Chi-Square test, the analysis shows no statistically significant difference in conversion rates between the control group (old landing page) and the treatment group (new landing page). The p-values from both tests (0.19) are greater than the significance level of 0.05, indicating that we fail to reject the null hypothesis. This suggests that the new landing page does not lead to a meaningful improvement in conversion rates compared to the old page. As a result, there is no evidence to support that the new landing page performs better, and further testing or adjustments may be necessary to achieve a significant impact."
      ],
      "metadata": {
        "id": "Bsv-cOLCkD3h"
      }
    },
    {
      "cell_type": "code",
      "source": [],
      "metadata": {
        "id": "Me-m3Q8vkQ1F"
      },
      "execution_count": null,
      "outputs": []
    }
  ]
}